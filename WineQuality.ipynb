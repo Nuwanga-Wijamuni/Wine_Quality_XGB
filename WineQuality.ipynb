{
 "cells": [
  {
   "cell_type": "code",
   "execution_count": 1,
   "metadata": {},
   "outputs": [
    {
     "name": "stderr",
     "output_type": "stream",
     "text": [
      "c:\\Users\\Nuwanga Wijamuni\\AppData\\Local\\Programs\\Python\\Python310\\lib\\site-packages\\tqdm\\auto.py:22: TqdmWarning: IProgress not found. Please update jupyter and ipywidgets. See https://ipywidgets.readthedocs.io/en/stable/user_install.html\n",
      "  from .autonotebook import tqdm as notebook_tqdm\n",
      "C:\\Users\\Nuwanga Wijamuni\\AppData\\Local\\Temp\\ipykernel_6232\\1183348828.py:7: DeprecationWarning: `import pandas_profiling` is going to be deprecated by April 1st. Please use `import ydata_profiling` instead.\n",
      "  from pandas_profiling import ProfileReport\n"
     ]
    }
   ],
   "source": [
    "import pandas as pd \n",
    "import seaborn as sns\n",
    "import numpy as np\n",
    "import matplotlib.pyplot as plt\n",
    "from warnings import simplefilter\n",
    "import math\n",
    "from pandas_profiling import ProfileReport\n",
    "\n",
    "from sklearn.model_selection import train_test_split,StratifiedKFold\n",
    "from xgboost import XGBClassifier\n",
    "from sklearn.metrics import roc_auc_score, roc_curve, RocCurveDisplay, cohen_kappa_score\n",
    "\n",
    "\n",
    "## this line is needed sometimes. Sometimes plt.show doesn't work.\n",
    "%matplotlib inline  \n",
    "simplefilter('ignore')"
   ]
  },
  {
   "cell_type": "code",
   "execution_count": 2,
   "metadata": {},
   "outputs": [],
   "source": [
    "train_data_1 = pd.read_csv(\"train.csv\")\n",
    "test_data = pd.read_csv(\"test.csv\")\n",
    "orig_data = pd.read_csv(\"WineQT.csv\")"
   ]
  },
  {
   "cell_type": "code",
   "execution_count": 3,
   "metadata": {},
   "outputs": [
    {
     "name": "stdout",
     "output_type": "stream",
     "text": [
      "competition train data set:\n",
      "\n",
      "<class 'pandas.core.frame.DataFrame'>\n",
      "RangeIndex: 2056 entries, 0 to 2055\n",
      "Data columns (total 13 columns):\n",
      " #   Column                Non-Null Count  Dtype  \n",
      "---  ------                --------------  -----  \n",
      " 0   Id                    2056 non-null   int64  \n",
      " 1   fixed acidity         2056 non-null   float64\n",
      " 2   volatile acidity      2056 non-null   float64\n",
      " 3   citric acid           2056 non-null   float64\n",
      " 4   residual sugar        2056 non-null   float64\n",
      " 5   chlorides             2056 non-null   float64\n",
      " 6   free sulfur dioxide   2056 non-null   float64\n",
      " 7   total sulfur dioxide  2056 non-null   float64\n",
      " 8   density               2056 non-null   float64\n",
      " 9   pH                    2056 non-null   float64\n",
      " 10  sulphates             2056 non-null   float64\n",
      " 11  alcohol               2056 non-null   float64\n",
      " 12  quality               2056 non-null   int64  \n",
      "dtypes: float64(11), int64(2)\n",
      "memory usage: 208.9 KB\n"
     ]
    }
   ],
   "source": [
    "print(\"competition train data set:\\n\")\n",
    "train_data_1.info()"
   ]
  },
  {
   "cell_type": "code",
   "execution_count": 2,
   "metadata": {},
   "outputs": [
    {
     "name": "stdout",
     "output_type": "stream",
     "text": [
      "Collecting pandas_profiling\n",
      "  Downloading pandas_profiling-3.6.6-py2.py3-none-any.whl (324 kB)\n",
      "     ------------------------------------ 324.4/324.4 KB 872.6 kB/s eta 0:00:00\n",
      "Collecting ydata-profiling\n",
      "  Downloading ydata_profiling-4.0.0-py2.py3-none-any.whl (344 kB)\n",
      "     -------------------------------------- 344.5/344.5 KB 1.5 MB/s eta 0:00:00\n",
      "Collecting phik<0.13,>=0.11.1\n",
      "  Downloading phik-0.12.3-cp310-cp310-win_amd64.whl (663 kB)\n",
      "     -------------------------------------- 663.4/663.4 KB 1.8 MB/s eta 0:00:00\n",
      "Requirement already satisfied: numpy<1.24,>=1.16.0 in c:\\users\\nuwanga wijamuni\\appdata\\local\\programs\\python\\python310\\lib\\site-packages (from ydata-profiling->pandas_profiling) (1.23.4)\n",
      "Requirement already satisfied: pandas!=1.4.0,<1.6,>1.1 in c:\\users\\nuwanga wijamuni\\appdata\\local\\programs\\python\\python310\\lib\\site-packages (from ydata-profiling->pandas_profiling) (1.5.1)\n",
      "Requirement already satisfied: requests<2.29,>=2.24.0 in c:\\users\\nuwanga wijamuni\\appdata\\local\\programs\\python\\python310\\lib\\site-packages (from ydata-profiling->pandas_profiling) (2.28.1)\n",
      "Requirement already satisfied: statsmodels<0.14,>=0.13.2 in c:\\users\\nuwanga wijamuni\\appdata\\local\\programs\\python\\python310\\lib\\site-packages (from ydata-profiling->pandas_profiling) (0.13.5)\n",
      "Collecting multimethod<1.10,>=1.4\n",
      "  Downloading multimethod-1.9.1-py3-none-any.whl (10 kB)\n",
      "Requirement already satisfied: PyYAML<6.1,>=5.0.0 in c:\\users\\nuwanga wijamuni\\appdata\\local\\programs\\python\\python310\\lib\\site-packages (from ydata-profiling->pandas_profiling) (6.0)\n",
      "Requirement already satisfied: tqdm<4.65,>=4.48.2 in c:\\users\\nuwanga wijamuni\\appdata\\local\\programs\\python\\python310\\lib\\site-packages (from ydata-profiling->pandas_profiling) (4.64.1)\n",
      "Collecting pydantic<1.11,>=1.8.1\n",
      "  Downloading pydantic-1.10.5-cp310-cp310-win_amd64.whl (2.1 MB)\n",
      "     ---------------------------------------- 2.1/2.1 MB 2.2 MB/s eta 0:00:00\n",
      "Collecting htmlmin==0.1.12\n",
      "  Downloading htmlmin-0.1.12.tar.gz (19 kB)\n",
      "  Preparing metadata (setup.py): started\n",
      "  Preparing metadata (setup.py): finished with status 'done'\n",
      "Requirement already satisfied: scipy<1.10,>=1.4.1 in c:\\users\\nuwanga wijamuni\\appdata\\local\\programs\\python\\python310\\lib\\site-packages (from ydata-profiling->pandas_profiling) (1.9.3)\n",
      "Collecting visions[type_image_path]==0.7.5\n",
      "  Downloading visions-0.7.5-py3-none-any.whl (102 kB)\n",
      "     -------------------------------------- 102.7/102.7 KB 1.2 MB/s eta 0:00:00\n",
      "Requirement already satisfied: jinja2<3.2,>=2.11.1 in c:\\users\\nuwanga wijamuni\\appdata\\local\\programs\\python\\python310\\lib\\site-packages (from ydata-profiling->pandas_profiling) (3.1.2)\n",
      "Requirement already satisfied: matplotlib<3.7,>=3.2 in c:\\users\\nuwanga wijamuni\\appdata\\local\\programs\\python\\python310\\lib\\site-packages (from ydata-profiling->pandas_profiling) (3.6.2)\n",
      "Requirement already satisfied: seaborn<0.13,>=0.10.1 in c:\\users\\nuwanga wijamuni\\appdata\\local\\programs\\python\\python310\\lib\\site-packages (from ydata-profiling->pandas_profiling) (0.12.2)\n",
      "Collecting typeguard<2.14,>=2.13.2\n",
      "  Downloading typeguard-2.13.3-py3-none-any.whl (17 kB)\n",
      "Collecting tangled-up-in-unicode>=0.0.4\n",
      "  Downloading tangled_up_in_unicode-0.2.0-py3-none-any.whl (4.7 MB)\n",
      "     ---------------------------------------- 4.7/4.7 MB 2.5 MB/s eta 0:00:00\n",
      "Collecting networkx>=2.4\n",
      "  Downloading networkx-3.0-py3-none-any.whl (2.0 MB)\n",
      "     ---------------------------------------- 2.0/2.0 MB 2.7 MB/s eta 0:00:00\n",
      "Requirement already satisfied: attrs>=19.3.0 in c:\\users\\nuwanga wijamuni\\appdata\\local\\programs\\python\\python310\\lib\\site-packages (from visions[type_image_path]==0.7.5->ydata-profiling->pandas_profiling) (22.1.0)\n",
      "Requirement already satisfied: Pillow in c:\\users\\nuwanga wijamuni\\appdata\\local\\programs\\python\\python310\\lib\\site-packages (from visions[type_image_path]==0.7.5->ydata-profiling->pandas_profiling) (9.3.0)\n",
      "Collecting imagehash\n",
      "  Downloading ImageHash-4.3.1-py2.py3-none-any.whl (296 kB)\n",
      "     -------------------------------------- 296.5/296.5 KB 2.0 MB/s eta 0:00:00\n",
      "Requirement already satisfied: MarkupSafe>=2.0 in c:\\users\\nuwanga wijamuni\\appdata\\local\\programs\\python\\python310\\lib\\site-packages (from jinja2<3.2,>=2.11.1->ydata-profiling->pandas_profiling) (2.1.1)\n",
      "Requirement already satisfied: pyparsing>=2.2.1 in c:\\users\\nuwanga wijamuni\\appdata\\local\\programs\\python\\python310\\lib\\site-packages (from matplotlib<3.7,>=3.2->ydata-profiling->pandas_profiling) (3.0.9)\n",
      "Requirement already satisfied: contourpy>=1.0.1 in c:\\users\\nuwanga wijamuni\\appdata\\local\\programs\\python\\python310\\lib\\site-packages (from matplotlib<3.7,>=3.2->ydata-profiling->pandas_profiling) (1.0.6)\n",
      "Requirement already satisfied: python-dateutil>=2.7 in c:\\users\\nuwanga wijamuni\\appdata\\local\\programs\\python\\python310\\lib\\site-packages (from matplotlib<3.7,>=3.2->ydata-profiling->pandas_profiling) (2.8.2)\n",
      "Requirement already satisfied: cycler>=0.10 in c:\\users\\nuwanga wijamuni\\appdata\\local\\programs\\python\\python310\\lib\\site-packages (from matplotlib<3.7,>=3.2->ydata-profiling->pandas_profiling) (0.11.0)\n",
      "Requirement already satisfied: packaging>=20.0 in c:\\users\\nuwanga wijamuni\\appdata\\local\\programs\\python\\python310\\lib\\site-packages (from matplotlib<3.7,>=3.2->ydata-profiling->pandas_profiling) (21.3)\n",
      "Requirement already satisfied: kiwisolver>=1.0.1 in c:\\users\\nuwanga wijamuni\\appdata\\local\\programs\\python\\python310\\lib\\site-packages (from matplotlib<3.7,>=3.2->ydata-profiling->pandas_profiling) (1.4.4)\n",
      "Requirement already satisfied: fonttools>=4.22.0 in c:\\users\\nuwanga wijamuni\\appdata\\local\\programs\\python\\python310\\lib\\site-packages (from matplotlib<3.7,>=3.2->ydata-profiling->pandas_profiling) (4.38.0)\n",
      "Requirement already satisfied: pytz>=2020.1 in c:\\users\\nuwanga wijamuni\\appdata\\local\\programs\\python\\python310\\lib\\site-packages (from pandas!=1.4.0,<1.6,>1.1->ydata-profiling->pandas_profiling) (2022.5)\n",
      "Requirement already satisfied: joblib>=0.14.1 in c:\\users\\nuwanga wijamuni\\appdata\\local\\programs\\python\\python310\\lib\\site-packages (from phik<0.13,>=0.11.1->ydata-profiling->pandas_profiling) (1.2.0)\n",
      "Requirement already satisfied: typing-extensions>=4.2.0 in c:\\users\\nuwanga wijamuni\\appdata\\local\\programs\\python\\python310\\lib\\site-packages (from pydantic<1.11,>=1.8.1->ydata-profiling->pandas_profiling) (4.4.0)\n",
      "Requirement already satisfied: certifi>=2017.4.17 in c:\\users\\nuwanga wijamuni\\appdata\\local\\programs\\python\\python310\\lib\\site-packages (from requests<2.29,>=2.24.0->ydata-profiling->pandas_profiling) (2022.9.24)\n",
      "Requirement already satisfied: urllib3<1.27,>=1.21.1 in c:\\users\\nuwanga wijamuni\\appdata\\local\\programs\\python\\python310\\lib\\site-packages (from requests<2.29,>=2.24.0->ydata-profiling->pandas_profiling) (1.26.12)\n",
      "Requirement already satisfied: charset-normalizer<3,>=2 in c:\\users\\nuwanga wijamuni\\appdata\\local\\programs\\python\\python310\\lib\\site-packages (from requests<2.29,>=2.24.0->ydata-profiling->pandas_profiling) (2.1.1)\n",
      "Requirement already satisfied: idna<4,>=2.5 in c:\\users\\nuwanga wijamuni\\appdata\\local\\programs\\python\\python310\\lib\\site-packages (from requests<2.29,>=2.24.0->ydata-profiling->pandas_profiling) (3.4)\n",
      "Requirement already satisfied: patsy>=0.5.2 in c:\\users\\nuwanga wijamuni\\appdata\\local\\programs\\python\\python310\\lib\\site-packages (from statsmodels<0.14,>=0.13.2->ydata-profiling->pandas_profiling) (0.5.3)\n",
      "Requirement already satisfied: colorama in c:\\users\\nuwanga wijamuni\\appdata\\local\\programs\\python\\python310\\lib\\site-packages (from tqdm<4.65,>=4.48.2->ydata-profiling->pandas_profiling) (0.4.5)\n",
      "Requirement already satisfied: six in c:\\users\\nuwanga wijamuni\\appdata\\local\\programs\\python\\python310\\lib\\site-packages (from patsy>=0.5.2->statsmodels<0.14,>=0.13.2->ydata-profiling->pandas_profiling) (1.16.0)\n",
      "Collecting PyWavelets\n",
      "  Downloading PyWavelets-1.4.1-cp310-cp310-win_amd64.whl (4.2 MB)\n",
      "     ---------------------------------------- 4.2/4.2 MB 2.5 MB/s eta 0:00:00\n",
      "Building wheels for collected packages: htmlmin\n",
      "  Building wheel for htmlmin (setup.py): started\n",
      "  Building wheel for htmlmin (setup.py): finished with status 'done'\n",
      "  Created wheel for htmlmin: filename=htmlmin-0.1.12-py3-none-any.whl size=27110 sha256=7145b98bb2aaa4cd30d3f60ae6aeecb73513e0ef28bd26c8d567446738c5fece\n",
      "  Stored in directory: c:\\users\\nuwanga wijamuni\\appdata\\local\\pip\\cache\\wheels\\dd\\91\\29\\a79cecb328d01739e64017b6fb9a1ab9d8cb1853098ec5966d\n",
      "Successfully built htmlmin\n",
      "Installing collected packages: htmlmin, typeguard, tangled-up-in-unicode, PyWavelets, pydantic, networkx, multimethod, imagehash, visions, phik, ydata-profiling, pandas_profiling\n",
      "Successfully installed PyWavelets-1.4.1 htmlmin-0.1.12 imagehash-4.3.1 multimethod-1.9.1 networkx-3.0 pandas_profiling-3.6.6 phik-0.12.3 pydantic-1.10.5 tangled-up-in-unicode-0.2.0 typeguard-2.13.3 visions-0.7.5 ydata-profiling-4.0.0\n",
      "Note: you may need to restart the kernel to use updated packages.\n"
     ]
    },
    {
     "name": "stderr",
     "output_type": "stream",
     "text": [
      "WARNING: You are using pip version 22.0.4; however, version 23.0 is available.\n",
      "You should consider upgrading via the 'c:\\Users\\Nuwanga Wijamuni\\AppData\\Local\\Programs\\Python\\Python310\\python.exe -m pip install --upgrade pip' command.\n"
     ]
    }
   ],
   "source": [
    "pip install pandas_profiling"
   ]
  },
  {
   "cell_type": "code",
   "execution_count": 4,
   "metadata": {},
   "outputs": [
    {
     "name": "stdout",
     "output_type": "stream",
     "text": [
      "competition test data set:\n",
      "\n",
      "<class 'pandas.core.frame.DataFrame'>\n",
      "RangeIndex: 1372 entries, 0 to 1371\n",
      "Data columns (total 12 columns):\n",
      " #   Column                Non-Null Count  Dtype  \n",
      "---  ------                --------------  -----  \n",
      " 0   Id                    1372 non-null   int64  \n",
      " 1   fixed acidity         1372 non-null   float64\n",
      " 2   volatile acidity      1372 non-null   float64\n",
      " 3   citric acid           1372 non-null   float64\n",
      " 4   residual sugar        1372 non-null   float64\n",
      " 5   chlorides             1372 non-null   float64\n",
      " 6   free sulfur dioxide   1372 non-null   float64\n",
      " 7   total sulfur dioxide  1372 non-null   float64\n",
      " 8   density               1372 non-null   float64\n",
      " 9   pH                    1372 non-null   float64\n",
      " 10  sulphates             1372 non-null   float64\n",
      " 11  alcohol               1372 non-null   float64\n",
      "dtypes: float64(11), int64(1)\n",
      "memory usage: 128.8 KB\n"
     ]
    }
   ],
   "source": [
    "print(\"competition test data set:\\n\")\n",
    "test_data.info()"
   ]
  },
  {
   "cell_type": "code",
   "execution_count": 5,
   "metadata": {},
   "outputs": [
    {
     "name": "stdout",
     "output_type": "stream",
     "text": [
      "check original data duplicates:\n",
      "\n"
     ]
    },
    {
     "data": {
      "text/plain": [
       "0"
      ]
     },
     "execution_count": 5,
     "metadata": {},
     "output_type": "execute_result"
    }
   ],
   "source": [
    "print(\"check original data duplicates:\\n\")\n",
    "train_data_1.duplicated().sum()"
   ]
  },
  {
   "cell_type": "code",
   "execution_count": 6,
   "metadata": {},
   "outputs": [
    {
     "name": "stdout",
     "output_type": "stream",
     "text": [
      "check train.csv duplicates:\n",
      "\n"
     ]
    },
    {
     "data": {
      "text/plain": [
       "0"
      ]
     },
     "execution_count": 6,
     "metadata": {},
     "output_type": "execute_result"
    }
   ],
   "source": [
    "print(\"check train.csv duplicates:\\n\")\n",
    "orig_data.duplicated().sum()"
   ]
  },
  {
   "cell_type": "code",
   "execution_count": 7,
   "metadata": {},
   "outputs": [],
   "source": [
    "# Combined train.csv and WineQT.csv into one train data set: train_data\n",
    "train_data = pd.concat([train_data_1,orig_data]).reset_index(drop=True)"
   ]
  },
  {
   "cell_type": "code",
   "execution_count": 8,
   "metadata": {},
   "outputs": [],
   "source": [
    "# Experimentation: Adding new features.\n",
    "\n",
    "\n",
    "train_data['total_acid'] = train_data['fixed acidity'] + train_data['volatile acidity'] + train_data['citric acid']\n",
    "train_data['acid/density'] = train_data['total_acid']  / train_data['density']\n",
    "train_data['alcohol_density'] = train_data['alcohol']  * train_data['density']\n",
    "train_data['sulphate/density'] = train_data['sulphates']  / train_data['density']\n",
    "train_data['sulphates/acid'] = train_data['sulphates'] / train_data['volatile acidity']\n",
    "train_data['sulphates/chlorides'] = train_data['sulphates'] / train_data['chlorides']\n",
    "train_data['sulphates*alcohol'] = train_data['sulphates'] * train_data['alcohol']"
   ]
  },
  {
   "cell_type": "code",
   "execution_count": 10,
   "metadata": {},
   "outputs": [
    {
     "data": {
      "text/html": [
       "<div>\n",
       "<style scoped>\n",
       "    .dataframe tbody tr th:only-of-type {\n",
       "        vertical-align: middle;\n",
       "    }\n",
       "\n",
       "    .dataframe tbody tr th {\n",
       "        vertical-align: top;\n",
       "    }\n",
       "\n",
       "    .dataframe thead th {\n",
       "        text-align: right;\n",
       "    }\n",
       "</style>\n",
       "<table border=\"1\" class=\"dataframe\">\n",
       "  <thead>\n",
       "    <tr style=\"text-align: right;\">\n",
       "      <th></th>\n",
       "      <th>Id</th>\n",
       "      <th>fixed acidity</th>\n",
       "      <th>volatile acidity</th>\n",
       "      <th>citric acid</th>\n",
       "      <th>residual sugar</th>\n",
       "      <th>chlorides</th>\n",
       "      <th>free sulfur dioxide</th>\n",
       "      <th>total sulfur dioxide</th>\n",
       "      <th>density</th>\n",
       "      <th>pH</th>\n",
       "      <th>sulphates</th>\n",
       "      <th>alcohol</th>\n",
       "      <th>quality</th>\n",
       "      <th>total_acid</th>\n",
       "      <th>acid/density</th>\n",
       "      <th>alcohol_density</th>\n",
       "      <th>sulphate/density</th>\n",
       "      <th>sulphates/acid</th>\n",
       "      <th>sulphates/chlorides</th>\n",
       "      <th>sulphates*alcohol</th>\n",
       "    </tr>\n",
       "  </thead>\n",
       "  <tbody>\n",
       "    <tr>\n",
       "      <th>0</th>\n",
       "      <td>0</td>\n",
       "      <td>8.0</td>\n",
       "      <td>0.50</td>\n",
       "      <td>0.39</td>\n",
       "      <td>2.2</td>\n",
       "      <td>0.073</td>\n",
       "      <td>30.0</td>\n",
       "      <td>39.0</td>\n",
       "      <td>0.99572</td>\n",
       "      <td>3.33</td>\n",
       "      <td>0.77</td>\n",
       "      <td>12.1</td>\n",
       "      <td>6</td>\n",
       "      <td>8.89</td>\n",
       "      <td>8.928213</td>\n",
       "      <td>12.048212</td>\n",
       "      <td>0.773310</td>\n",
       "      <td>1.540000</td>\n",
       "      <td>10.547945</td>\n",
       "      <td>9.317</td>\n",
       "    </tr>\n",
       "    <tr>\n",
       "      <th>1</th>\n",
       "      <td>1</td>\n",
       "      <td>9.3</td>\n",
       "      <td>0.30</td>\n",
       "      <td>0.73</td>\n",
       "      <td>2.3</td>\n",
       "      <td>0.092</td>\n",
       "      <td>30.0</td>\n",
       "      <td>67.0</td>\n",
       "      <td>0.99854</td>\n",
       "      <td>3.32</td>\n",
       "      <td>0.67</td>\n",
       "      <td>12.8</td>\n",
       "      <td>6</td>\n",
       "      <td>10.33</td>\n",
       "      <td>10.345104</td>\n",
       "      <td>12.781312</td>\n",
       "      <td>0.670980</td>\n",
       "      <td>2.233333</td>\n",
       "      <td>7.282609</td>\n",
       "      <td>8.576</td>\n",
       "    </tr>\n",
       "    <tr>\n",
       "      <th>2</th>\n",
       "      <td>2</td>\n",
       "      <td>7.1</td>\n",
       "      <td>0.51</td>\n",
       "      <td>0.03</td>\n",
       "      <td>2.1</td>\n",
       "      <td>0.059</td>\n",
       "      <td>3.0</td>\n",
       "      <td>12.0</td>\n",
       "      <td>0.99660</td>\n",
       "      <td>3.52</td>\n",
       "      <td>0.73</td>\n",
       "      <td>11.3</td>\n",
       "      <td>7</td>\n",
       "      <td>7.64</td>\n",
       "      <td>7.666065</td>\n",
       "      <td>11.261580</td>\n",
       "      <td>0.732490</td>\n",
       "      <td>1.431373</td>\n",
       "      <td>12.372881</td>\n",
       "      <td>8.249</td>\n",
       "    </tr>\n",
       "    <tr>\n",
       "      <th>3</th>\n",
       "      <td>3</td>\n",
       "      <td>8.1</td>\n",
       "      <td>0.87</td>\n",
       "      <td>0.22</td>\n",
       "      <td>2.6</td>\n",
       "      <td>0.084</td>\n",
       "      <td>11.0</td>\n",
       "      <td>65.0</td>\n",
       "      <td>0.99730</td>\n",
       "      <td>3.20</td>\n",
       "      <td>0.53</td>\n",
       "      <td>9.8</td>\n",
       "      <td>5</td>\n",
       "      <td>9.19</td>\n",
       "      <td>9.214880</td>\n",
       "      <td>9.773540</td>\n",
       "      <td>0.531435</td>\n",
       "      <td>0.609195</td>\n",
       "      <td>6.309524</td>\n",
       "      <td>5.194</td>\n",
       "    </tr>\n",
       "    <tr>\n",
       "      <th>4</th>\n",
       "      <td>4</td>\n",
       "      <td>8.5</td>\n",
       "      <td>0.36</td>\n",
       "      <td>0.30</td>\n",
       "      <td>2.3</td>\n",
       "      <td>0.079</td>\n",
       "      <td>10.0</td>\n",
       "      <td>45.0</td>\n",
       "      <td>0.99444</td>\n",
       "      <td>3.20</td>\n",
       "      <td>1.36</td>\n",
       "      <td>9.5</td>\n",
       "      <td>6</td>\n",
       "      <td>9.16</td>\n",
       "      <td>9.211214</td>\n",
       "      <td>9.447180</td>\n",
       "      <td>1.367604</td>\n",
       "      <td>3.777778</td>\n",
       "      <td>17.215190</td>\n",
       "      <td>12.920</td>\n",
       "    </tr>\n",
       "    <tr>\n",
       "      <th>5</th>\n",
       "      <td>5</td>\n",
       "      <td>9.9</td>\n",
       "      <td>0.51</td>\n",
       "      <td>0.44</td>\n",
       "      <td>2.2</td>\n",
       "      <td>0.111</td>\n",
       "      <td>30.0</td>\n",
       "      <td>134.0</td>\n",
       "      <td>0.99820</td>\n",
       "      <td>3.11</td>\n",
       "      <td>0.54</td>\n",
       "      <td>9.6</td>\n",
       "      <td>5</td>\n",
       "      <td>10.85</td>\n",
       "      <td>10.869565</td>\n",
       "      <td>9.582720</td>\n",
       "      <td>0.540974</td>\n",
       "      <td>1.058824</td>\n",
       "      <td>4.864865</td>\n",
       "      <td>5.184</td>\n",
       "    </tr>\n",
       "    <tr>\n",
       "      <th>6</th>\n",
       "      <td>6</td>\n",
       "      <td>7.2</td>\n",
       "      <td>0.87</td>\n",
       "      <td>0.00</td>\n",
       "      <td>2.3</td>\n",
       "      <td>0.080</td>\n",
       "      <td>6.0</td>\n",
       "      <td>18.0</td>\n",
       "      <td>0.99552</td>\n",
       "      <td>3.34</td>\n",
       "      <td>0.60</td>\n",
       "      <td>11.3</td>\n",
       "      <td>6</td>\n",
       "      <td>8.07</td>\n",
       "      <td>8.106316</td>\n",
       "      <td>11.249376</td>\n",
       "      <td>0.602700</td>\n",
       "      <td>0.689655</td>\n",
       "      <td>7.500000</td>\n",
       "      <td>6.780</td>\n",
       "    </tr>\n",
       "    <tr>\n",
       "      <th>7</th>\n",
       "      <td>7</td>\n",
       "      <td>7.5</td>\n",
       "      <td>0.43</td>\n",
       "      <td>0.32</td>\n",
       "      <td>1.8</td>\n",
       "      <td>0.066</td>\n",
       "      <td>18.0</td>\n",
       "      <td>40.0</td>\n",
       "      <td>0.99560</td>\n",
       "      <td>3.30</td>\n",
       "      <td>0.43</td>\n",
       "      <td>9.7</td>\n",
       "      <td>6</td>\n",
       "      <td>8.25</td>\n",
       "      <td>8.286460</td>\n",
       "      <td>9.657320</td>\n",
       "      <td>0.431900</td>\n",
       "      <td>1.000000</td>\n",
       "      <td>6.515152</td>\n",
       "      <td>4.171</td>\n",
       "    </tr>\n",
       "    <tr>\n",
       "      <th>8</th>\n",
       "      <td>8</td>\n",
       "      <td>11.6</td>\n",
       "      <td>0.38</td>\n",
       "      <td>0.55</td>\n",
       "      <td>2.2</td>\n",
       "      <td>0.084</td>\n",
       "      <td>17.0</td>\n",
       "      <td>40.0</td>\n",
       "      <td>1.00080</td>\n",
       "      <td>3.17</td>\n",
       "      <td>0.73</td>\n",
       "      <td>9.8</td>\n",
       "      <td>6</td>\n",
       "      <td>12.53</td>\n",
       "      <td>12.519984</td>\n",
       "      <td>9.807840</td>\n",
       "      <td>0.729416</td>\n",
       "      <td>1.921053</td>\n",
       "      <td>8.690476</td>\n",
       "      <td>7.154</td>\n",
       "    </tr>\n",
       "    <tr>\n",
       "      <th>9</th>\n",
       "      <td>9</td>\n",
       "      <td>7.8</td>\n",
       "      <td>0.78</td>\n",
       "      <td>0.09</td>\n",
       "      <td>2.2</td>\n",
       "      <td>0.049</td>\n",
       "      <td>13.0</td>\n",
       "      <td>29.0</td>\n",
       "      <td>0.99682</td>\n",
       "      <td>3.51</td>\n",
       "      <td>0.49</td>\n",
       "      <td>9.5</td>\n",
       "      <td>5</td>\n",
       "      <td>8.67</td>\n",
       "      <td>8.697659</td>\n",
       "      <td>9.469790</td>\n",
       "      <td>0.491563</td>\n",
       "      <td>0.628205</td>\n",
       "      <td>10.000000</td>\n",
       "      <td>4.655</td>\n",
       "    </tr>\n",
       "  </tbody>\n",
       "</table>\n",
       "</div>"
      ],
      "text/plain": [
       "   Id  fixed acidity  volatile acidity  citric acid  residual sugar  \\\n",
       "0   0            8.0              0.50         0.39             2.2   \n",
       "1   1            9.3              0.30         0.73             2.3   \n",
       "2   2            7.1              0.51         0.03             2.1   \n",
       "3   3            8.1              0.87         0.22             2.6   \n",
       "4   4            8.5              0.36         0.30             2.3   \n",
       "5   5            9.9              0.51         0.44             2.2   \n",
       "6   6            7.2              0.87         0.00             2.3   \n",
       "7   7            7.5              0.43         0.32             1.8   \n",
       "8   8           11.6              0.38         0.55             2.2   \n",
       "9   9            7.8              0.78         0.09             2.2   \n",
       "\n",
       "   chlorides  free sulfur dioxide  total sulfur dioxide  density    pH  \\\n",
       "0      0.073                 30.0                  39.0  0.99572  3.33   \n",
       "1      0.092                 30.0                  67.0  0.99854  3.32   \n",
       "2      0.059                  3.0                  12.0  0.99660  3.52   \n",
       "3      0.084                 11.0                  65.0  0.99730  3.20   \n",
       "4      0.079                 10.0                  45.0  0.99444  3.20   \n",
       "5      0.111                 30.0                 134.0  0.99820  3.11   \n",
       "6      0.080                  6.0                  18.0  0.99552  3.34   \n",
       "7      0.066                 18.0                  40.0  0.99560  3.30   \n",
       "8      0.084                 17.0                  40.0  1.00080  3.17   \n",
       "9      0.049                 13.0                  29.0  0.99682  3.51   \n",
       "\n",
       "   sulphates  alcohol  quality  total_acid  acid/density  alcohol_density  \\\n",
       "0       0.77     12.1        6        8.89      8.928213        12.048212   \n",
       "1       0.67     12.8        6       10.33     10.345104        12.781312   \n",
       "2       0.73     11.3        7        7.64      7.666065        11.261580   \n",
       "3       0.53      9.8        5        9.19      9.214880         9.773540   \n",
       "4       1.36      9.5        6        9.16      9.211214         9.447180   \n",
       "5       0.54      9.6        5       10.85     10.869565         9.582720   \n",
       "6       0.60     11.3        6        8.07      8.106316        11.249376   \n",
       "7       0.43      9.7        6        8.25      8.286460         9.657320   \n",
       "8       0.73      9.8        6       12.53     12.519984         9.807840   \n",
       "9       0.49      9.5        5        8.67      8.697659         9.469790   \n",
       "\n",
       "   sulphate/density  sulphates/acid  sulphates/chlorides  sulphates*alcohol  \n",
       "0          0.773310        1.540000            10.547945              9.317  \n",
       "1          0.670980        2.233333             7.282609              8.576  \n",
       "2          0.732490        1.431373            12.372881              8.249  \n",
       "3          0.531435        0.609195             6.309524              5.194  \n",
       "4          1.367604        3.777778            17.215190             12.920  \n",
       "5          0.540974        1.058824             4.864865              5.184  \n",
       "6          0.602700        0.689655             7.500000              6.780  \n",
       "7          0.431900        1.000000             6.515152              4.171  \n",
       "8          0.729416        1.921053             8.690476              7.154  \n",
       "9          0.491563        0.628205            10.000000              4.655  "
      ]
     },
     "execution_count": 10,
     "metadata": {},
     "output_type": "execute_result"
    }
   ],
   "source": [
    "train_data.head(10)"
   ]
  },
  {
   "cell_type": "code",
   "execution_count": 11,
   "metadata": {},
   "outputs": [
    {
     "data": {
      "text/plain": [
       "<bound method Series.unique of Id                        int64\n",
       "fixed acidity           float64\n",
       "volatile acidity        float64\n",
       "citric acid             float64\n",
       "residual sugar          float64\n",
       "chlorides               float64\n",
       "free sulfur dioxide     float64\n",
       "total sulfur dioxide    float64\n",
       "density                 float64\n",
       "pH                      float64\n",
       "sulphates               float64\n",
       "alcohol                 float64\n",
       "quality                   int64\n",
       "total_acid              float64\n",
       "acid/density            float64\n",
       "alcohol_density         float64\n",
       "sulphate/density        float64\n",
       "sulphates/acid          float64\n",
       "sulphates/chlorides     float64\n",
       "sulphates*alcohol       float64\n",
       "dtype: object>"
      ]
     },
     "execution_count": 11,
     "metadata": {},
     "output_type": "execute_result"
    }
   ],
   "source": [
    "train_data.dtypes.unique"
   ]
  },
  {
   "cell_type": "code",
   "execution_count": 12,
   "metadata": {},
   "outputs": [],
   "source": [
    "test_data['total_acid'] = test_data['fixed acidity'] + test_data['volatile acidity'] + test_data['citric acid']\n",
    "test_data['acid/density'] = test_data['total_acid']  / test_data['density']\n",
    "test_data['alcohol_density'] = test_data['alcohol']  * test_data['density']\n",
    "test_data['sulphate/density'] = test_data['sulphates']  / test_data['density']\n",
    "test_data['sulphates/acid'] = test_data['sulphates'] / test_data['volatile acidity']\n",
    "test_data['sulphates/chlorides'] = test_data['sulphates'] / test_data['chlorides']\n",
    "test_data['sulphates*alcohol'] = test_data['sulphates'] * test_data['alcohol']"
   ]
  },
  {
   "cell_type": "code",
   "execution_count": 13,
   "metadata": {},
   "outputs": [
    {
     "data": {
      "text/plain": [
       "(1372, 19)"
      ]
     },
     "execution_count": 13,
     "metadata": {},
     "output_type": "execute_result"
    }
   ],
   "source": [
    "test_data.shape"
   ]
  },
  {
   "cell_type": "code",
   "execution_count": 14,
   "metadata": {},
   "outputs": [],
   "source": [
    "# Let's scale all the features using Scaler\n",
    "\n",
    "# set the features\n",
    "orig_features=[\"fixed acidity\", \"volatile acidity\", \"citric acid\",\"residual sugar\",\n",
    "            \"chlorides\",\"free sulfur dioxide\",\"total sulfur dioxide\",\n",
    "               \"density\",\"pH\",\"sulphates\",\"alcohol\"]\n",
    "\n",
    "new_features=['total_acid','acid/density','alcohol_density','sulphate/density',\n",
    "             'sulphates/acid','sulphates/chlorides','sulphates*alcohol']\n",
    "\n",
    "wine_features = orig_features + new_features\n",
    "\n",
    "#wine_features = orig_features\n",
    "\n",
    "from sklearn.preprocessing import StandardScaler, RobustScaler, QuantileTransformer\n",
    "from sklearn.preprocessing import MinMaxScaler\n",
    "\n",
    "# create scaler\n",
    "#scaler = StandardScaler() ## (Standardization)if the distribution is Gaussian\n",
    "#scaler = MinMaxScaler() ## (Normalization) if the distribution is not Gaussian or unknown\n",
    "scaler = QuantileTransformer(output_distribution=\"normal\")\n",
    "\n",
    "# transform the features\n",
    "\n",
    "X_train_full = train_data[wine_features]\n",
    "X_test_full = test_data[wine_features]\n",
    "\n",
    "scaled_X_train = pd.DataFrame(scaler.fit_transform(X_train_full))\n",
    "scaled_X_test = pd.DataFrame(scaler.transform(X_test_full))\n",
    "\n",
    "\n",
    "# scaling removed column names; put them back\n",
    "scaled_X_train.columns = X_train_full.columns\n",
    "scaled_X_test.columns = X_test_full.columns"
   ]
  },
  {
   "cell_type": "code",
   "execution_count": 15,
   "metadata": {},
   "outputs": [
    {
     "data": {
      "text/plain": [
       "['fixed acidity',\n",
       " 'volatile acidity',\n",
       " 'citric acid',\n",
       " 'residual sugar',\n",
       " 'chlorides',\n",
       " 'free sulfur dioxide',\n",
       " 'total sulfur dioxide',\n",
       " 'density',\n",
       " 'pH',\n",
       " 'sulphates',\n",
       " 'alcohol',\n",
       " 'total_acid',\n",
       " 'acid/density',\n",
       " 'alcohol_density',\n",
       " 'sulphate/density',\n",
       " 'sulphates/acid',\n",
       " 'sulphates/chlorides',\n",
       " 'sulphates*alcohol']"
      ]
     },
     "execution_count": 15,
     "metadata": {},
     "output_type": "execute_result"
    }
   ],
   "source": [
    "wine_features"
   ]
  },
  {
   "cell_type": "code",
   "execution_count": 16,
   "metadata": {},
   "outputs": [],
   "source": [
    "# target\n",
    "# 'quality' is a ordinal variable. \n",
    "y = train_data.quality - 3 "
   ]
  },
  {
   "cell_type": "code",
   "execution_count": 17,
   "metadata": {},
   "outputs": [
    {
     "name": "stdout",
     "output_type": "stream",
     "text": [
      "The roc-auc score from simple split is: 0.5589331948017127\n"
     ]
    }
   ],
   "source": [
    "X_train, X_valid, y_train, y_valid = train_test_split(scaled_X_train, y, \n",
    "                                                      test_size = 0.2, \n",
    "                                                      random_state = 0)\n",
    "\n",
    "\n",
    "\n",
    "#model and training\n",
    "simple_xgb = XGBClassifier(learning_rate = 0.05, \n",
    "                           n_estimators=1000,\n",
    "                           seed=0)\n",
    "\n",
    "\n",
    "#simple_xgb = XGBClassifier(tree_method = 'hist',\n",
    "#                               colsample_bytree = 0.75, \n",
    "#                               gamma = 0.8,  \n",
    "#                               max_depth = 15, \n",
    "#                               min_child_weight = 1,\n",
    "#                               n_estimators=1000,\n",
    "#                               seed=0,\n",
    "#                               learning_rate=0.05)\n",
    "\n",
    "#my_model.fit(X_train_full,y)\n",
    "simple_xgb.fit(X_train,y_train,early_stopping_rounds=5,\n",
    "            eval_set=[(X_valid,y_valid)],verbose=False)\n",
    "\n",
    "\n",
    "## Predicting on X_valid and test data\n",
    "simple_xgb_pred_1 = simple_xgb.predict(X_valid)\n",
    "    \n",
    "        \n",
    "\n",
    "## Computing roc-auc score\n",
    "simple_xgb_cv_scores = cohen_kappa_score(y_valid, simple_xgb_pred_1, \n",
    "                                         weights = 'quadratic')\n",
    "   \n",
    "print('The roc-auc score from simple split is:', simple_xgb_cv_scores)"
   ]
  },
  {
   "cell_type": "code",
   "execution_count": 18,
   "metadata": {},
   "outputs": [],
   "source": [
    "XGB_simple_sub = simple_xgb.predict(scaled_X_test) + 3"
   ]
  },
  {
   "cell_type": "code",
   "execution_count": 19,
   "metadata": {},
   "outputs": [],
   "source": [
    "# output predictions data\n",
    "output = pd.DataFrame({'Id': test_data.Id, 'quality': XGB_simple_sub})\n",
    "output.to_csv('submission_xgb_simple.csv', index=False)"
   ]
  },
  {
   "cell_type": "code",
   "execution_count": 20,
   "metadata": {},
   "outputs": [
    {
     "name": "stderr",
     "output_type": "stream",
     "text": [
      "'head' is not recognized as an internal or external command,\n",
      "operable program or batch file.\n"
     ]
    }
   ],
   "source": [
    "!head submission_xgb_simple.csv"
   ]
  },
  {
   "cell_type": "code",
   "execution_count": 21,
   "metadata": {},
   "outputs": [
    {
     "name": "stdout",
     "output_type": "stream",
     "text": [
      "The average roc-auc score over 5-folds (run 5 times) is: 0.5172225065122117\n"
     ]
    }
   ],
   "source": [
    "\n",
    "\n",
    "X = scaled_X_train\n",
    "test_md = scaled_X_test\n",
    "\n",
    "XGB_cv_scores, XGB_imp = list(), list()\n",
    "\n",
    "\n",
    "## Running 5 times CV\n",
    "for i in range(5):\n",
    "    \n",
    "    skf = StratifiedKFold(n_splits = 5, random_state = 42, shuffle = True)\n",
    "    \n",
    "    for train_ix, test_ix in skf.split(X, y):\n",
    "        \n",
    "        ## Splitting the data \n",
    "        X_train, X_test = X.iloc[train_ix], X.iloc[test_ix]\n",
    "        y_train, y_test = y.iloc[train_ix], y.iloc[test_ix]\n",
    "        \n",
    "        ## Building RF model\n",
    "        XGB_md = XGBClassifier(tree_method = 'hist',\n",
    "                               colsample_bytree = 0.75, \n",
    "                               gamma = 0.8,  \n",
    "                               max_depth = 10, \n",
    "                               min_child_weight = 15,\n",
    "                               n_estimators=1000,\n",
    "                               seed=0,\n",
    "                               learning_rate=0.05)\n",
    "    \n",
    "        ## Train the model:\n",
    "    \n",
    "        XGB_md.fit(X_train,y_train,early_stopping_rounds=5,\n",
    "            eval_set=[(X_test,y_test)],verbose=False)\n",
    "        \n",
    "        \n",
    "        \n",
    "        ## Predicting on X_test and test data\n",
    "        XGB_pred_1 = XGB_md.predict(X_test)\n",
    "    \n",
    "        \n",
    "        ## Computing roc-auc score\n",
    "        XGB_cv_scores.append(cohen_kappa_score(y_test, XGB_pred_1, weights = 'quadratic'))\n",
    "        \n",
    "\n",
    "XGB_cv_score = np.mean(XGB_cv_scores)    \n",
    "print('The average roc-auc score over 5-folds (run 5 times) is:', XGB_cv_score)"
   ]
  },
  {
   "cell_type": "code",
   "execution_count": 22,
   "metadata": {},
   "outputs": [],
   "source": [
    "XGB_md_sub = XGB_md.predict(scaled_X_test) + 3"
   ]
  },
  {
   "cell_type": "code",
   "execution_count": 23,
   "metadata": {},
   "outputs": [],
   "source": [
    "# output predictions data\n",
    "output = pd.DataFrame({'Id': test_data.Id, 'quality': XGB_md_sub})\n",
    "output.to_csv('submission_xgb_skfold.csv', index=False)"
   ]
  },
  {
   "cell_type": "code",
   "execution_count": 24,
   "metadata": {},
   "outputs": [
    {
     "name": "stderr",
     "output_type": "stream",
     "text": [
      "'head' is not recognized as an internal or external command,\n",
      "operable program or batch file.\n"
     ]
    }
   ],
   "source": [
    "!head submission_xgb_skfold.csv"
   ]
  },
  {
   "cell_type": "code",
   "execution_count": 25,
   "metadata": {},
   "outputs": [
    {
     "data": {
      "text/html": [
       "<style type=\"text/css\">\n",
       "</style>\n",
       "<table id=\"T_24fb6\">\n",
       "  <caption>XGB + Simple test_split</caption>\n",
       "  <thead>\n",
       "    <tr>\n",
       "      <th class=\"blank level0\" >&nbsp;</th>\n",
       "      <th id=\"T_24fb6_level0_col0\" class=\"col_heading level0 col0\" >test_size</th>\n",
       "      <th id=\"T_24fb6_level0_col1\" class=\"col_heading level0 col1\" >roc-auc score (with new fea.)</th>\n",
       "      <th id=\"T_24fb6_level0_col2\" class=\"col_heading level0 col2\" >roc-auc score(without new fea.)</th>\n",
       "    </tr>\n",
       "  </thead>\n",
       "  <tbody>\n",
       "    <tr>\n",
       "      <th id=\"T_24fb6_level0_row0\" class=\"row_heading level0 row0\" >0</th>\n",
       "      <td id=\"T_24fb6_row0_col0\" class=\"data row0 col0\" >0.2</td>\n",
       "      <td id=\"T_24fb6_row0_col1\" class=\"data row0 col1\" >0.559</td>\n",
       "      <td id=\"T_24fb6_row0_col2\" class=\"data row0 col2\" >0.525</td>\n",
       "    </tr>\n",
       "    <tr>\n",
       "      <th id=\"T_24fb6_level0_row1\" class=\"row_heading level0 row1\" >1</th>\n",
       "      <td id=\"T_24fb6_row1_col0\" class=\"data row1 col0\" >0.3</td>\n",
       "      <td id=\"T_24fb6_row1_col1\" class=\"data row1 col1\" >0.509</td>\n",
       "      <td id=\"T_24fb6_row1_col2\" class=\"data row1 col2\" >0.512</td>\n",
       "    </tr>\n",
       "  </tbody>\n",
       "</table>\n"
      ],
      "text/plain": [
       "<pandas.io.formats.style.Styler at 0x21af1ff2f80>"
      ]
     },
     "execution_count": 25,
     "metadata": {},
     "output_type": "execute_result"
    }
   ],
   "source": [
    "d = {\n",
    "    'test_size': ['0.2', '0.3'],\n",
    "    'roc-auc score (with new fea.)': ['0.559', '0.509' ],\n",
    "    'roc-auc score(without new fea.)': ['0.525', '0.512']\n",
    "}\n",
    "df = pd.DataFrame(data=d)\n",
    "df.style.set_caption(\"XGB + Simple test_split\")"
   ]
  },
  {
   "cell_type": "code",
   "execution_count": null,
   "metadata": {},
   "outputs": [],
   "source": []
  }
 ],
 "metadata": {
  "kernelspec": {
   "display_name": "Python 3",
   "language": "python",
   "name": "python3"
  },
  "language_info": {
   "codemirror_mode": {
    "name": "ipython",
    "version": 3
   },
   "file_extension": ".py",
   "mimetype": "text/x-python",
   "name": "python",
   "nbconvert_exporter": "python",
   "pygments_lexer": "ipython3",
   "version": "3.10.5"
  },
  "orig_nbformat": 4,
  "vscode": {
   "interpreter": {
    "hash": "23c59744ee0c7293252132bef4dc2e9c457c992fba136acb9e136f465410f22c"
   }
  }
 },
 "nbformat": 4,
 "nbformat_minor": 2
}
